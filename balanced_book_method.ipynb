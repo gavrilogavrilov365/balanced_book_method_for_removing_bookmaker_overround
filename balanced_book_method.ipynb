{
 "cells": [
  {
   "cell_type": "code",
   "execution_count": 2,
   "id": "1decc78f-4c5a-4ba6-971d-4aead1188d75",
   "metadata": {},
   "outputs": [
    {
     "data": {
      "text/plain": [
       "{'true odds': array([3.26710777, 3.22235287, 2.60697298]),\n",
       " 'probabilities': array([0.30608112, 0.31033224, 0.38358664]),\n",
       " 'bookmaker_margin': 0.11887252500310286,\n",
       " 'zvalues': 0.0}"
      ]
     },
     "execution_count": 2,
     "metadata": {},
     "output_type": "execute_result"
    }
   ],
   "source": [
    "import numpy as np\n",
    "from scipy.optimize import root_scalar\n",
    "\n",
    "def implied_probabilities(odds, grossmargin=0):\n",
    "    \"\"\"\n",
    "    Calculate the implied probabilities from bookmaker odds in decimal format, while\n",
    "    accounting for overround in the odds, using the balanced books method.\n",
    "\n",
    "    Args:\n",
    "        odds (numpy.array): A 1D or 2D array of bookmaker odds. The odds must be in decimal format.\n",
    "        grossmargin (float): Must be 0 or greater. Default is 0.\n",
    "\n",
    "    Returns:\n",
    "        dict: A dictionary with the following keys:\n",
    "            - 'probabilities': A numpy array of the implied probabilities.\n",
    "            - 'bookmaker_margin': The bookmaker margin (aka the overround).\n",
    "            - 'zvalues': The estimated amount of insider trading.\n",
    "\n",
    "    References:\n",
    "        - John Fingleton & Patrick Waldron (1999) Optimal Determination of Bookmakers' Betting Odds: Theory and Tests.\n",
    "    \"\"\"\n",
    "    odds = np.asarray(odds)\n",
    "    assert np.all(odds > 1), \"All odds must be greater than 1.\"\n",
    "\n",
    "    # Compute the inverse odds\n",
    "    inverse_odds = 1 / odds\n",
    "\n",
    "    # Compute the bookmaker margin (aka the overround)\n",
    "    bookmaker_margin = np.sum(inverse_odds) - 1\n",
    "\n",
    "    # Calculate the gross margin, which accounts for operating costs\n",
    "    gross_margin = bookmaker_margin + grossmargin\n",
    "\n",
    "    # Calculate the matrix B, which determines the size of the insiders' bet\n",
    "    B = np.sum(inverse_odds, axis=0) - 1\n",
    "\n",
    "    def balanced_books(x):\n",
    "        # Compute the insiders' bet\n",
    "        insider_bet = B * x / (1 + gross_margin * x)\n",
    "\n",
    "        # Compute the total bet and the implied probabilities\n",
    "        total_bet = np.sum(inverse_odds / (1 + insider_bet))\n",
    "        probabilities = (inverse_odds / (1 + insider_bet)) / total_bet\n",
    "\n",
    "        return np.sum(probabilities) - 1\n",
    "\n",
    "    # Use scipy.optimize.root_scalar to find the value of x that satisfies the balanced books equation\n",
    "    solution = root_scalar(balanced_books, method='brentq', bracket=(0, 1))\n",
    "\n",
    "    # Compute the insiders' bet and the implied probabilities using the solution\n",
    "    insider_bet = B * solution.root / (1 + gross_margin * solution.root)\n",
    "    total_bet = np.sum(inverse_odds / (1 + insider_bet))\n",
    "    probabilities = (inverse_odds / (1 + insider_bet)) / total_bet\n",
    "\n",
    "    # Calculate the estimated amount of insider trading\n",
    "    zvalues = insider_bet / (1 + insider_bet)\n",
    "\n",
    "    return {'true odds': 1/probabilities, 'probabilities': probabilities, 'bookmaker_margin': bookmaker_margin, 'zvalues': zvalues}\n",
    "\n",
    "my_odds = np.array([2.92,2.88,2.33])\n",
    "implied_probabilities(my_odds)"
   ]
  }
 ],
 "metadata": {
  "kernelspec": {
   "display_name": "Python 3 (ipykernel)",
   "language": "python",
   "name": "python3"
  },
  "language_info": {
   "codemirror_mode": {
    "name": "ipython",
    "version": 3
   },
   "file_extension": ".py",
   "mimetype": "text/x-python",
   "name": "python",
   "nbconvert_exporter": "python",
   "pygments_lexer": "ipython3",
   "version": "3.10.6"
  }
 },
 "nbformat": 4,
 "nbformat_minor": 5
}
